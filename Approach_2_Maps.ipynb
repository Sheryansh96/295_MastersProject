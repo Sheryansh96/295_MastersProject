{
  "nbformat": 4,
  "nbformat_minor": 0,
  "metadata": {
    "colab": {
      "provenance": []
    },
    "kernelspec": {
      "name": "python3",
      "display_name": "Python 3"
    },
    "language_info": {
      "name": "python"
    }
  },
  "cells": [
    {
      "cell_type": "code",
      "source": [
        "!pip install python-google-places"
      ],
      "metadata": {
        "colab": {
          "base_uri": "https://localhost:8080/"
        },
        "id": "Ida6zd8gdNu2",
        "outputId": "6c206769-297d-48b2-d35a-78191d557cf8"
      },
      "execution_count": null,
      "outputs": [
        {
          "output_type": "stream",
          "name": "stdout",
          "text": [
            "Looking in indexes: https://pypi.org/simple, https://us-python.pkg.dev/colab-wheels/public/simple/\n",
            "Collecting python-google-places\n",
            "  Downloading python-google-places-1.4.2.tar.gz (12 kB)\n",
            "  Preparing metadata (setup.py) ... \u001b[?25l\u001b[?25hdone\n",
            "Requirement already satisfied: six in /usr/local/lib/python3.9/dist-packages (from python-google-places) (1.16.0)\n",
            "Building wheels for collected packages: python-google-places\n",
            "  Building wheel for python-google-places (setup.py) ... \u001b[?25l\u001b[?25hdone\n",
            "  Created wheel for python-google-places: filename=python_google_places-1.4.2-py3-none-any.whl size=13600 sha256=1e0dff0da0d01b635a2405a07733a8e394bcc076da2793232e2ed54b3d14d7ad\n",
            "  Stored in directory: /root/.cache/pip/wheels/9f/11/19/361da17e9681d96dd5b4b2f166df413cb9dc11373d2f8565cf\n",
            "Successfully built python-google-places\n",
            "Installing collected packages: python-google-places\n",
            "Successfully installed python-google-places-1.4.2\n"
          ]
        }
      ]
    },
    {
      "cell_type": "code",
      "execution_count": null,
      "metadata": {
        "id": "mdt_kM0HdCtM"
      },
      "outputs": [],
      "source": [
        "from googleplaces import GooglePlaces, types, lang\n",
        "import pandas as pd\n",
        "import numpy as np"
      ]
    },
    {
      "cell_type": "code",
      "source": [
        "mypath ='/content/drive/MyDrive/295A Project/data'\n",
        "API_KEY = ''"
      ],
      "metadata": {
        "id": "kamwGvoqdHmL"
      },
      "execution_count": null,
      "outputs": []
    },
    {
      "cell_type": "code",
      "source": [
        "google_places = GooglePlaces(API_KEY)\n",
        "def googleplaces_query_to_dataframe (lng, lat, keyword, radius, *place_type):\n",
        "    \"\"\"Transform query results from Google API to pandas dataframe\"\"\"\n",
        "    places_data_list = []\n",
        "    query_result = google_places.nearby_search(\n",
        "    lat_lng={'lat': lat, 'lng': lng}, \n",
        "    #location=(lat, lng),\n",
        "    keyword=keyword,\n",
        "    radius=radius)    \n",
        "    for place in query_result.places: \n",
        "        place.get_details()\n",
        "        places_data_list.append([place.place_id, place.name, float(place.geo_location['lat']),float(place.geo_location['lng']), place.rating, place.url])\n",
        "    #default query only returns the first 20\n",
        "    while query_result.has_next_page_token :\n",
        "        query_result= google_places.nearby_search(pagetoken=query_result.next_page_token)\n",
        "        for place in query_result.places:\n",
        "            place.get_details()\n",
        "            places_data_list.append([place.place_id, place.name, float(place.geo_location['lat']),float(place.geo_location['lng']), place.rating, place.url])\n",
        "    df = pd.DataFrame(places_data_list, columns = ['ID','Name', 'latitude', 'longitude', 'Rating', 'Url'])\n",
        "    return df"
      ],
      "metadata": {
        "id": "wq35IYuifwT4"
      },
      "execution_count": null,
      "outputs": []
    },
    {
      "cell_type": "code",
      "source": [
        "location = 'Palo Alto'\n",
        "lat, lng = 37.44220793084094, -122.14317583273053\n",
        "radius = 1500\n",
        "keyword = 'charging station'\n",
        "df = googleplaces_query_to_dataframe (lng, lat, keyword, radius)\n",
        "df.shape"
      ],
      "metadata": {
        "colab": {
          "base_uri": "https://localhost:8080/"
        },
        "id": "AYY5vY3MgcHB",
        "outputId": "40b62e88-f31a-4706-ee96-01d20855a229"
      },
      "execution_count": null,
      "outputs": [
        {
          "output_type": "execute_result",
          "data": {
            "text/plain": [
              "(17, 6)"
            ]
          },
          "metadata": {},
          "execution_count": 5
        }
      ]
    },
    {
      "cell_type": "code",
      "source": [
        "df.head()"
      ],
      "metadata": {
        "colab": {
          "base_uri": "https://localhost:8080/",
          "height": 337
        },
        "id": "7L_skV8tkTQv",
        "outputId": "5440beb8-cc9b-4597-d765-25924b1bd7d9"
      },
      "execution_count": null,
      "outputs": [
        {
          "output_type": "execute_result",
          "data": {
            "text/plain": [
              "                            ID                          Name   latitude  \\\n",
              "0  ChIJUQFR4wG7j4AR7LdpWWsgVaM    Powerflex Charging Station  37.438797   \n",
              "1  ChIJiVr2Cgi7j4ARWohyzpN09a0            Tesla Supercharger  37.446566   \n",
              "2  ChIJq-YIzju7j4ARSfzqjgfWW34    Powerflex Charging Station  37.444521   \n",
              "3  ChIJGe7BQD-7j4ARG6JeLXxYrz0  ChargePoint Charging Station  37.449806   \n",
              "4  ChIJ4Ydlyzi7j4ARXUGqIa4tpf8    Powerflex Charging Station  37.449094   \n",
              "\n",
              "    longitude Rating                                                Url  \n",
              "0 -122.134121      0  https://maps.google.com/?cid=11769348846636349420  \n",
              "1 -122.162295    4.2  https://maps.google.com/?cid=12535053316028270682  \n",
              "2 -122.160017      0   https://maps.google.com/?cid=9105106399610469449  \n",
              "3 -122.156487      0   https://maps.google.com/?cid=4444868647598334491  \n",
              "4 -122.157694      0  https://maps.google.com/?cid=18421180076741247325  "
            ],
            "text/html": [
              "\n",
              "  <div id=\"df-c6ea78dc-f27a-46c6-9dbe-7c83dec23290\">\n",
              "    <div class=\"colab-df-container\">\n",
              "      <div>\n",
              "<style scoped>\n",
              "    .dataframe tbody tr th:only-of-type {\n",
              "        vertical-align: middle;\n",
              "    }\n",
              "\n",
              "    .dataframe tbody tr th {\n",
              "        vertical-align: top;\n",
              "    }\n",
              "\n",
              "    .dataframe thead th {\n",
              "        text-align: right;\n",
              "    }\n",
              "</style>\n",
              "<table border=\"1\" class=\"dataframe\">\n",
              "  <thead>\n",
              "    <tr style=\"text-align: right;\">\n",
              "      <th></th>\n",
              "      <th>ID</th>\n",
              "      <th>Name</th>\n",
              "      <th>latitude</th>\n",
              "      <th>longitude</th>\n",
              "      <th>Rating</th>\n",
              "      <th>Url</th>\n",
              "    </tr>\n",
              "  </thead>\n",
              "  <tbody>\n",
              "    <tr>\n",
              "      <th>0</th>\n",
              "      <td>ChIJUQFR4wG7j4AR7LdpWWsgVaM</td>\n",
              "      <td>Powerflex Charging Station</td>\n",
              "      <td>37.438797</td>\n",
              "      <td>-122.134121</td>\n",
              "      <td>0</td>\n",
              "      <td>https://maps.google.com/?cid=11769348846636349420</td>\n",
              "    </tr>\n",
              "    <tr>\n",
              "      <th>1</th>\n",
              "      <td>ChIJiVr2Cgi7j4ARWohyzpN09a0</td>\n",
              "      <td>Tesla Supercharger</td>\n",
              "      <td>37.446566</td>\n",
              "      <td>-122.162295</td>\n",
              "      <td>4.2</td>\n",
              "      <td>https://maps.google.com/?cid=12535053316028270682</td>\n",
              "    </tr>\n",
              "    <tr>\n",
              "      <th>2</th>\n",
              "      <td>ChIJq-YIzju7j4ARSfzqjgfWW34</td>\n",
              "      <td>Powerflex Charging Station</td>\n",
              "      <td>37.444521</td>\n",
              "      <td>-122.160017</td>\n",
              "      <td>0</td>\n",
              "      <td>https://maps.google.com/?cid=9105106399610469449</td>\n",
              "    </tr>\n",
              "    <tr>\n",
              "      <th>3</th>\n",
              "      <td>ChIJGe7BQD-7j4ARG6JeLXxYrz0</td>\n",
              "      <td>ChargePoint Charging Station</td>\n",
              "      <td>37.449806</td>\n",
              "      <td>-122.156487</td>\n",
              "      <td>0</td>\n",
              "      <td>https://maps.google.com/?cid=4444868647598334491</td>\n",
              "    </tr>\n",
              "    <tr>\n",
              "      <th>4</th>\n",
              "      <td>ChIJ4Ydlyzi7j4ARXUGqIa4tpf8</td>\n",
              "      <td>Powerflex Charging Station</td>\n",
              "      <td>37.449094</td>\n",
              "      <td>-122.157694</td>\n",
              "      <td>0</td>\n",
              "      <td>https://maps.google.com/?cid=18421180076741247325</td>\n",
              "    </tr>\n",
              "  </tbody>\n",
              "</table>\n",
              "</div>\n",
              "      <button class=\"colab-df-convert\" onclick=\"convertToInteractive('df-c6ea78dc-f27a-46c6-9dbe-7c83dec23290')\"\n",
              "              title=\"Convert this dataframe to an interactive table.\"\n",
              "              style=\"display:none;\">\n",
              "        \n",
              "  <svg xmlns=\"http://www.w3.org/2000/svg\" height=\"24px\"viewBox=\"0 0 24 24\"\n",
              "       width=\"24px\">\n",
              "    <path d=\"M0 0h24v24H0V0z\" fill=\"none\"/>\n",
              "    <path d=\"M18.56 5.44l.94 2.06.94-2.06 2.06-.94-2.06-.94-.94-2.06-.94 2.06-2.06.94zm-11 1L8.5 8.5l.94-2.06 2.06-.94-2.06-.94L8.5 2.5l-.94 2.06-2.06.94zm10 10l.94 2.06.94-2.06 2.06-.94-2.06-.94-.94-2.06-.94 2.06-2.06.94z\"/><path d=\"M17.41 7.96l-1.37-1.37c-.4-.4-.92-.59-1.43-.59-.52 0-1.04.2-1.43.59L10.3 9.45l-7.72 7.72c-.78.78-.78 2.05 0 2.83L4 21.41c.39.39.9.59 1.41.59.51 0 1.02-.2 1.41-.59l7.78-7.78 2.81-2.81c.8-.78.8-2.07 0-2.86zM5.41 20L4 18.59l7.72-7.72 1.47 1.35L5.41 20z\"/>\n",
              "  </svg>\n",
              "      </button>\n",
              "      \n",
              "  <style>\n",
              "    .colab-df-container {\n",
              "      display:flex;\n",
              "      flex-wrap:wrap;\n",
              "      gap: 12px;\n",
              "    }\n",
              "\n",
              "    .colab-df-convert {\n",
              "      background-color: #E8F0FE;\n",
              "      border: none;\n",
              "      border-radius: 50%;\n",
              "      cursor: pointer;\n",
              "      display: none;\n",
              "      fill: #1967D2;\n",
              "      height: 32px;\n",
              "      padding: 0 0 0 0;\n",
              "      width: 32px;\n",
              "    }\n",
              "\n",
              "    .colab-df-convert:hover {\n",
              "      background-color: #E2EBFA;\n",
              "      box-shadow: 0px 1px 2px rgba(60, 64, 67, 0.3), 0px 1px 3px 1px rgba(60, 64, 67, 0.15);\n",
              "      fill: #174EA6;\n",
              "    }\n",
              "\n",
              "    [theme=dark] .colab-df-convert {\n",
              "      background-color: #3B4455;\n",
              "      fill: #D2E3FC;\n",
              "    }\n",
              "\n",
              "    [theme=dark] .colab-df-convert:hover {\n",
              "      background-color: #434B5C;\n",
              "      box-shadow: 0px 1px 3px 1px rgba(0, 0, 0, 0.15);\n",
              "      filter: drop-shadow(0px 1px 2px rgba(0, 0, 0, 0.3));\n",
              "      fill: #FFFFFF;\n",
              "    }\n",
              "  </style>\n",
              "\n",
              "      <script>\n",
              "        const buttonEl =\n",
              "          document.querySelector('#df-c6ea78dc-f27a-46c6-9dbe-7c83dec23290 button.colab-df-convert');\n",
              "        buttonEl.style.display =\n",
              "          google.colab.kernel.accessAllowed ? 'block' : 'none';\n",
              "\n",
              "        async function convertToInteractive(key) {\n",
              "          const element = document.querySelector('#df-c6ea78dc-f27a-46c6-9dbe-7c83dec23290');\n",
              "          const dataTable =\n",
              "            await google.colab.kernel.invokeFunction('convertToInteractive',\n",
              "                                                     [key], {});\n",
              "          if (!dataTable) return;\n",
              "\n",
              "          const docLinkHtml = 'Like what you see? Visit the ' +\n",
              "            '<a target=\"_blank\" href=https://colab.research.google.com/notebooks/data_table.ipynb>data table notebook</a>'\n",
              "            + ' to learn more about interactive tables.';\n",
              "          element.innerHTML = '';\n",
              "          dataTable['output_type'] = 'display_data';\n",
              "          await google.colab.output.renderOutput(dataTable, element);\n",
              "          const docLink = document.createElement('div');\n",
              "          docLink.innerHTML = docLinkHtml;\n",
              "          element.appendChild(docLink);\n",
              "        }\n",
              "      </script>\n",
              "    </div>\n",
              "  </div>\n",
              "  "
            ]
          },
          "metadata": {},
          "execution_count": 6
        }
      ]
    },
    {
      "cell_type": "code",
      "source": [
        "upperleft = [37.425045862307954, -122.19381908622464]\n",
        "upperright = [37.460518352884044, -122.14193347005475]\n",
        "lowerleft = [37.38962953738927, -122.12820056019407]\n",
        "lowerright = [37.434351837072924, -122.08494189413288]\n",
        "lat_list = np.arange(37.425045862307954, 37.434351837072924, 0.025)\n",
        "lng_list = np.arange(-122.19381908622464, -122.08494189413288,0.025)\n",
        "xx,yy = np.meshgrid(lat_list,lng_list)"
      ],
      "metadata": {
        "id": "TFQCbGbds-5-"
      },
      "execution_count": null,
      "outputs": []
    },
    {
      "cell_type": "code",
      "source": [
        "xx.shape"
      ],
      "metadata": {
        "colab": {
          "base_uri": "https://localhost:8080/"
        },
        "id": "R9NP0QPFXVcj",
        "outputId": "fde51000-2ade-4f37-8640-6a4b02a662b0"
      },
      "execution_count": null,
      "outputs": [
        {
          "output_type": "execute_result",
          "data": {
            "text/plain": [
              "(5, 1)"
            ]
          },
          "metadata": {},
          "execution_count": 13
        }
      ]
    },
    {
      "cell_type": "code",
      "source": [
        "yy.shape"
      ],
      "metadata": {
        "colab": {
          "base_uri": "https://localhost:8080/"
        },
        "id": "6n8obQu3CG7R",
        "outputId": "d196b92c-9922-4581-ddae-27cc13297a8f"
      },
      "execution_count": null,
      "outputs": [
        {
          "output_type": "execute_result",
          "data": {
            "text/plain": [
              "(5, 1)"
            ]
          },
          "metadata": {},
          "execution_count": 14
        }
      ]
    },
    {
      "cell_type": "code",
      "source": [
        "coords = np.array([xx, yy]).reshape(2,-1).T\n",
        "coords.shape"
      ],
      "metadata": {
        "colab": {
          "base_uri": "https://localhost:8080/"
        },
        "id": "8mFuTO35Cbdp",
        "outputId": "6668d26d-9273-4f4f-fadf-f15967bb5725"
      },
      "execution_count": null,
      "outputs": [
        {
          "output_type": "execute_result",
          "data": {
            "text/plain": [
              "(5, 2)"
            ]
          },
          "metadata": {},
          "execution_count": 15
        }
      ]
    },
    {
      "cell_type": "code",
      "source": [
        "coords = pd.DataFrame(coords, columns = ['Lat', 'Lon'])\n",
        "coords.head()"
      ],
      "metadata": {
        "colab": {
          "base_uri": "https://localhost:8080/",
          "height": 206
        },
        "id": "G_qIYbNECeSc",
        "outputId": "104929ee-1fba-4c6a-a444-0b622423355d"
      },
      "execution_count": null,
      "outputs": [
        {
          "output_type": "execute_result",
          "data": {
            "text/plain": [
              "         Lat         Lon\n",
              "0  37.425046 -122.193819\n",
              "1  37.425046 -122.168819\n",
              "2  37.425046 -122.143819\n",
              "3  37.425046 -122.118819\n",
              "4  37.425046 -122.093819"
            ],
            "text/html": [
              "\n",
              "  <div id=\"df-2e31f289-d655-47fc-a6a9-5972eaa5edbb\">\n",
              "    <div class=\"colab-df-container\">\n",
              "      <div>\n",
              "<style scoped>\n",
              "    .dataframe tbody tr th:only-of-type {\n",
              "        vertical-align: middle;\n",
              "    }\n",
              "\n",
              "    .dataframe tbody tr th {\n",
              "        vertical-align: top;\n",
              "    }\n",
              "\n",
              "    .dataframe thead th {\n",
              "        text-align: right;\n",
              "    }\n",
              "</style>\n",
              "<table border=\"1\" class=\"dataframe\">\n",
              "  <thead>\n",
              "    <tr style=\"text-align: right;\">\n",
              "      <th></th>\n",
              "      <th>Lat</th>\n",
              "      <th>Lon</th>\n",
              "    </tr>\n",
              "  </thead>\n",
              "  <tbody>\n",
              "    <tr>\n",
              "      <th>0</th>\n",
              "      <td>37.425046</td>\n",
              "      <td>-122.193819</td>\n",
              "    </tr>\n",
              "    <tr>\n",
              "      <th>1</th>\n",
              "      <td>37.425046</td>\n",
              "      <td>-122.168819</td>\n",
              "    </tr>\n",
              "    <tr>\n",
              "      <th>2</th>\n",
              "      <td>37.425046</td>\n",
              "      <td>-122.143819</td>\n",
              "    </tr>\n",
              "    <tr>\n",
              "      <th>3</th>\n",
              "      <td>37.425046</td>\n",
              "      <td>-122.118819</td>\n",
              "    </tr>\n",
              "    <tr>\n",
              "      <th>4</th>\n",
              "      <td>37.425046</td>\n",
              "      <td>-122.093819</td>\n",
              "    </tr>\n",
              "  </tbody>\n",
              "</table>\n",
              "</div>\n",
              "      <button class=\"colab-df-convert\" onclick=\"convertToInteractive('df-2e31f289-d655-47fc-a6a9-5972eaa5edbb')\"\n",
              "              title=\"Convert this dataframe to an interactive table.\"\n",
              "              style=\"display:none;\">\n",
              "        \n",
              "  <svg xmlns=\"http://www.w3.org/2000/svg\" height=\"24px\"viewBox=\"0 0 24 24\"\n",
              "       width=\"24px\">\n",
              "    <path d=\"M0 0h24v24H0V0z\" fill=\"none\"/>\n",
              "    <path d=\"M18.56 5.44l.94 2.06.94-2.06 2.06-.94-2.06-.94-.94-2.06-.94 2.06-2.06.94zm-11 1L8.5 8.5l.94-2.06 2.06-.94-2.06-.94L8.5 2.5l-.94 2.06-2.06.94zm10 10l.94 2.06.94-2.06 2.06-.94-2.06-.94-.94-2.06-.94 2.06-2.06.94z\"/><path d=\"M17.41 7.96l-1.37-1.37c-.4-.4-.92-.59-1.43-.59-.52 0-1.04.2-1.43.59L10.3 9.45l-7.72 7.72c-.78.78-.78 2.05 0 2.83L4 21.41c.39.39.9.59 1.41.59.51 0 1.02-.2 1.41-.59l7.78-7.78 2.81-2.81c.8-.78.8-2.07 0-2.86zM5.41 20L4 18.59l7.72-7.72 1.47 1.35L5.41 20z\"/>\n",
              "  </svg>\n",
              "      </button>\n",
              "      \n",
              "  <style>\n",
              "    .colab-df-container {\n",
              "      display:flex;\n",
              "      flex-wrap:wrap;\n",
              "      gap: 12px;\n",
              "    }\n",
              "\n",
              "    .colab-df-convert {\n",
              "      background-color: #E8F0FE;\n",
              "      border: none;\n",
              "      border-radius: 50%;\n",
              "      cursor: pointer;\n",
              "      display: none;\n",
              "      fill: #1967D2;\n",
              "      height: 32px;\n",
              "      padding: 0 0 0 0;\n",
              "      width: 32px;\n",
              "    }\n",
              "\n",
              "    .colab-df-convert:hover {\n",
              "      background-color: #E2EBFA;\n",
              "      box-shadow: 0px 1px 2px rgba(60, 64, 67, 0.3), 0px 1px 3px 1px rgba(60, 64, 67, 0.15);\n",
              "      fill: #174EA6;\n",
              "    }\n",
              "\n",
              "    [theme=dark] .colab-df-convert {\n",
              "      background-color: #3B4455;\n",
              "      fill: #D2E3FC;\n",
              "    }\n",
              "\n",
              "    [theme=dark] .colab-df-convert:hover {\n",
              "      background-color: #434B5C;\n",
              "      box-shadow: 0px 1px 3px 1px rgba(0, 0, 0, 0.15);\n",
              "      filter: drop-shadow(0px 1px 2px rgba(0, 0, 0, 0.3));\n",
              "      fill: #FFFFFF;\n",
              "    }\n",
              "  </style>\n",
              "\n",
              "      <script>\n",
              "        const buttonEl =\n",
              "          document.querySelector('#df-2e31f289-d655-47fc-a6a9-5972eaa5edbb button.colab-df-convert');\n",
              "        buttonEl.style.display =\n",
              "          google.colab.kernel.accessAllowed ? 'block' : 'none';\n",
              "\n",
              "        async function convertToInteractive(key) {\n",
              "          const element = document.querySelector('#df-2e31f289-d655-47fc-a6a9-5972eaa5edbb');\n",
              "          const dataTable =\n",
              "            await google.colab.kernel.invokeFunction('convertToInteractive',\n",
              "                                                     [key], {});\n",
              "          if (!dataTable) return;\n",
              "\n",
              "          const docLinkHtml = 'Like what you see? Visit the ' +\n",
              "            '<a target=\"_blank\" href=https://colab.research.google.com/notebooks/data_table.ipynb>data table notebook</a>'\n",
              "            + ' to learn more about interactive tables.';\n",
              "          element.innerHTML = '';\n",
              "          dataTable['output_type'] = 'display_data';\n",
              "          await google.colab.output.renderOutput(dataTable, element);\n",
              "          const docLink = document.createElement('div');\n",
              "          docLink.innerHTML = docLinkHtml;\n",
              "          element.appendChild(docLink);\n",
              "        }\n",
              "      </script>\n",
              "    </div>\n",
              "  </div>\n",
              "  "
            ]
          },
          "metadata": {},
          "execution_count": 16
        }
      ]
    },
    {
      "cell_type": "code",
      "source": [
        "def poi_scrape(centroids_df, keyword, output_file_name, *place_type):\n",
        "    \"\"\" Scraping points of interests given a dataframe that contains geo-coordinates of centroids \"\"\"\n",
        "    df = pd.DataFrame()\n",
        "    row_index = 0\n",
        "    radius = 1500\n",
        "    for index, row in centroids_df.iterrows():\n",
        "        lat, lng= row['Lat'], row['Lon']   \n",
        "        current_length = len(df)\n",
        "        df = df.append(googleplaces_query_to_dataframe (lng, lat, keyword, radius, *place_type ))\n",
        "        print('scraped row ', row_index, ' and found', len(df)-current_length, 'results')\n",
        "        row_index += 1\n",
        "    print('# results before dup drop', len(df))\n",
        "    df_drop_dup = df.drop_duplicates('ID')\n",
        "    print('# results after dup drop', len(df_drop_dup))\n",
        "    df_drop_dup.to_excel(mypath+'/raw/'+output_file_name)\n",
        "    return df_drop_dup"
      ],
      "metadata": {
        "id": "MgEb8tUxCgmL"
      },
      "execution_count": null,
      "outputs": []
    },
    {
      "cell_type": "code",
      "source": [
        "df_charging = poi_scrape(coords, 'charging station','TRT_charging.xlsx')"
      ],
      "metadata": {
        "colab": {
          "base_uri": "https://localhost:8080/"
        },
        "id": "bLRZmHq4Dlju",
        "outputId": "381eb25e-dba8-41d9-d7c4-41b616e082a5"
      },
      "execution_count": null,
      "outputs": [
        {
          "output_type": "stream",
          "name": "stderr",
          "text": [
            "<ipython-input-25-1e30a7e50e2e>:9: FutureWarning: The frame.append method is deprecated and will be removed from pandas in a future version. Use pandas.concat instead.\n",
            "  df = df.append(googleplaces_query_to_dataframe (lng, lat, keyword, radius, *place_type ))\n",
            "<ipython-input-25-1e30a7e50e2e>:9: FutureWarning: The frame.append method is deprecated and will be removed from pandas in a future version. Use pandas.concat instead.\n",
            "  df = df.append(googleplaces_query_to_dataframe (lng, lat, keyword, radius, *place_type ))\n"
          ]
        },
        {
          "output_type": "stream",
          "name": "stdout",
          "text": [
            "scraped row  0  and found 11 results\n",
            "scraped row  1  and found 12 results\n",
            "scraped row  2  and found 18 results\n",
            "scraped row  3  and found 7 results\n",
            "scraped row  4  and found 3 results\n",
            "# results before dup drop 51\n",
            "# results after dup drop 38\n"
          ]
        },
        {
          "output_type": "stream",
          "name": "stderr",
          "text": [
            "<ipython-input-25-1e30a7e50e2e>:9: FutureWarning: The frame.append method is deprecated and will be removed from pandas in a future version. Use pandas.concat instead.\n",
            "  df = df.append(googleplaces_query_to_dataframe (lng, lat, keyword, radius, *place_type ))\n",
            "<ipython-input-25-1e30a7e50e2e>:9: FutureWarning: The frame.append method is deprecated and will be removed from pandas in a future version. Use pandas.concat instead.\n",
            "  df = df.append(googleplaces_query_to_dataframe (lng, lat, keyword, radius, *place_type ))\n",
            "<ipython-input-25-1e30a7e50e2e>:9: FutureWarning: The frame.append method is deprecated and will be removed from pandas in a future version. Use pandas.concat instead.\n",
            "  df = df.append(googleplaces_query_to_dataframe (lng, lat, keyword, radius, *place_type ))\n"
          ]
        }
      ]
    },
    {
      "cell_type": "code",
      "source": [
        "df_foodcourt = poi_scrape(coords, 'food court', 'TRT_foodcourt.xlsx')"
      ],
      "metadata": {
        "colab": {
          "base_uri": "https://localhost:8080/"
        },
        "id": "snTsyTI1EPAo",
        "outputId": "2b7b93b0-9803-472f-d7da-a7e14f571157"
      },
      "execution_count": null,
      "outputs": [
        {
          "output_type": "stream",
          "name": "stderr",
          "text": [
            "<ipython-input-25-1e30a7e50e2e>:9: FutureWarning: The frame.append method is deprecated and will be removed from pandas in a future version. Use pandas.concat instead.\n",
            "  df = df.append(googleplaces_query_to_dataframe (lng, lat, keyword, radius, *place_type ))\n"
          ]
        },
        {
          "output_type": "stream",
          "name": "stdout",
          "text": [
            "scraped row  0  and found 4 results\n"
          ]
        },
        {
          "output_type": "stream",
          "name": "stderr",
          "text": [
            "<ipython-input-25-1e30a7e50e2e>:9: FutureWarning: The frame.append method is deprecated and will be removed from pandas in a future version. Use pandas.concat instead.\n",
            "  df = df.append(googleplaces_query_to_dataframe (lng, lat, keyword, radius, *place_type ))\n"
          ]
        },
        {
          "output_type": "stream",
          "name": "stdout",
          "text": [
            "scraped row  1  and found 6 results\n"
          ]
        },
        {
          "output_type": "stream",
          "name": "stderr",
          "text": [
            "<ipython-input-25-1e30a7e50e2e>:9: FutureWarning: The frame.append method is deprecated and will be removed from pandas in a future version. Use pandas.concat instead.\n",
            "  df = df.append(googleplaces_query_to_dataframe (lng, lat, keyword, radius, *place_type ))\n"
          ]
        },
        {
          "output_type": "stream",
          "name": "stdout",
          "text": [
            "scraped row  2  and found 2 results\n"
          ]
        },
        {
          "output_type": "stream",
          "name": "stderr",
          "text": [
            "<ipython-input-25-1e30a7e50e2e>:9: FutureWarning: The frame.append method is deprecated and will be removed from pandas in a future version. Use pandas.concat instead.\n",
            "  df = df.append(googleplaces_query_to_dataframe (lng, lat, keyword, radius, *place_type ))\n"
          ]
        },
        {
          "output_type": "stream",
          "name": "stdout",
          "text": [
            "scraped row  3  and found 2 results\n",
            "scraped row  4  and found 3 results\n",
            "# results before dup drop 17\n",
            "# results after dup drop 12\n"
          ]
        },
        {
          "output_type": "stream",
          "name": "stderr",
          "text": [
            "<ipython-input-25-1e30a7e50e2e>:9: FutureWarning: The frame.append method is deprecated and will be removed from pandas in a future version. Use pandas.concat instead.\n",
            "  df = df.append(googleplaces_query_to_dataframe (lng, lat, keyword, radius, *place_type ))\n"
          ]
        }
      ]
    },
    {
      "cell_type": "code",
      "source": [
        "df_parking = poi_scrape(coords, 'parking', 'TRT_parking_type_parking.xlsx', 'parking')"
      ],
      "metadata": {
        "colab": {
          "base_uri": "https://localhost:8080/"
        },
        "id": "dlD0PE58OyO6",
        "outputId": "f4b8fb9c-4591-47f5-d7c6-9e92b34605fb"
      },
      "execution_count": null,
      "outputs": [
        {
          "output_type": "stream",
          "name": "stderr",
          "text": [
            "<ipython-input-31-38856c3ee691>:9: FutureWarning: The frame.append method is deprecated and will be removed from pandas in a future version. Use pandas.concat instead.\n",
            "  df = df.append(googleplaces_query_to_dataframe (lng, lat, keyword, radius, *place_type ))\n"
          ]
        },
        {
          "output_type": "stream",
          "name": "stdout",
          "text": [
            "scraped row  0  and found 1 results\n"
          ]
        },
        {
          "output_type": "stream",
          "name": "stderr",
          "text": [
            "<ipython-input-31-38856c3ee691>:9: FutureWarning: The frame.append method is deprecated and will be removed from pandas in a future version. Use pandas.concat instead.\n",
            "  df = df.append(googleplaces_query_to_dataframe (lng, lat, keyword, radius, *place_type ))\n"
          ]
        },
        {
          "output_type": "stream",
          "name": "stdout",
          "text": [
            "scraped row  1  and found 14 results\n"
          ]
        },
        {
          "output_type": "stream",
          "name": "stderr",
          "text": [
            "<ipython-input-31-38856c3ee691>:9: FutureWarning: The frame.append method is deprecated and will be removed from pandas in a future version. Use pandas.concat instead.\n",
            "  df = df.append(googleplaces_query_to_dataframe (lng, lat, keyword, radius, *place_type ))\n"
          ]
        },
        {
          "output_type": "stream",
          "name": "stdout",
          "text": [
            "scraped row  2  and found 13 results\n"
          ]
        },
        {
          "output_type": "stream",
          "name": "stderr",
          "text": [
            "<ipython-input-31-38856c3ee691>:9: FutureWarning: The frame.append method is deprecated and will be removed from pandas in a future version. Use pandas.concat instead.\n",
            "  df = df.append(googleplaces_query_to_dataframe (lng, lat, keyword, radius, *place_type ))\n"
          ]
        },
        {
          "output_type": "stream",
          "name": "stdout",
          "text": [
            "scraped row  3  and found 0 results\n",
            "scraped row  4  and found 1 results\n",
            "# results before dup drop 29\n",
            "# results after dup drop 29\n"
          ]
        },
        {
          "output_type": "stream",
          "name": "stderr",
          "text": [
            "<ipython-input-31-38856c3ee691>:9: FutureWarning: The frame.append method is deprecated and will be removed from pandas in a future version. Use pandas.concat instead.\n",
            "  df = df.append(googleplaces_query_to_dataframe (lng, lat, keyword, radius, *place_type ))\n"
          ]
        }
      ]
    },
    {
      "cell_type": "code",
      "source": [
        "# drop the \"parks\" observations\n",
        "df_parking2 = df_parking[df_parking.Name.str.endswith('Park') == False]\n",
        "df_parking2.shape"
      ],
      "metadata": {
        "colab": {
          "base_uri": "https://localhost:8080/"
        },
        "id": "9hDbBwJ9O2vB",
        "outputId": "e13aa51f-032e-4317-97b0-c11de482d22c"
      },
      "execution_count": null,
      "outputs": [
        {
          "output_type": "execute_result",
          "data": {
            "text/plain": [
              "(29, 6)"
            ]
          },
          "metadata": {},
          "execution_count": 33
        }
      ]
    },
    {
      "cell_type": "code",
      "source": [
        "df_parking2.to_excel(mypath+'/raw/'+'TRT_parking_lots_2.xlsx')"
      ],
      "metadata": {
        "id": "CvG8DMATPzOT"
      },
      "execution_count": null,
      "outputs": []
    },
    {
      "cell_type": "code",
      "source": [
        "df_shopping = poi_scrape(coords, 'shopping center', 'TRT_shopping.xlsx')"
      ],
      "metadata": {
        "colab": {
          "base_uri": "https://localhost:8080/"
        },
        "id": "tR5csTwOP6BR",
        "outputId": "4b4b5c64-7cfa-4d4a-f377-2943b47292ff"
      },
      "execution_count": null,
      "outputs": [
        {
          "output_type": "stream",
          "name": "stderr",
          "text": [
            "<ipython-input-37-1e30a7e50e2e>:9: FutureWarning: The frame.append method is deprecated and will be removed from pandas in a future version. Use pandas.concat instead.\n",
            "  df = df.append(googleplaces_query_to_dataframe (lng, lat, keyword, radius, *place_type ))\n"
          ]
        },
        {
          "output_type": "stream",
          "name": "stdout",
          "text": [
            "scraped row  0  and found 1 results\n"
          ]
        },
        {
          "output_type": "stream",
          "name": "stderr",
          "text": [
            "<ipython-input-37-1e30a7e50e2e>:9: FutureWarning: The frame.append method is deprecated and will be removed from pandas in a future version. Use pandas.concat instead.\n",
            "  df = df.append(googleplaces_query_to_dataframe (lng, lat, keyword, radius, *place_type ))\n"
          ]
        },
        {
          "output_type": "stream",
          "name": "stdout",
          "text": [
            "scraped row  1  and found 2 results\n"
          ]
        },
        {
          "output_type": "stream",
          "name": "stderr",
          "text": [
            "<ipython-input-37-1e30a7e50e2e>:9: FutureWarning: The frame.append method is deprecated and will be removed from pandas in a future version. Use pandas.concat instead.\n",
            "  df = df.append(googleplaces_query_to_dataframe (lng, lat, keyword, radius, *place_type ))\n"
          ]
        },
        {
          "output_type": "stream",
          "name": "stdout",
          "text": [
            "scraped row  2  and found 3 results\n"
          ]
        },
        {
          "output_type": "stream",
          "name": "stderr",
          "text": [
            "<ipython-input-37-1e30a7e50e2e>:9: FutureWarning: The frame.append method is deprecated and will be removed from pandas in a future version. Use pandas.concat instead.\n",
            "  df = df.append(googleplaces_query_to_dataframe (lng, lat, keyword, radius, *place_type ))\n"
          ]
        },
        {
          "output_type": "stream",
          "name": "stdout",
          "text": [
            "scraped row  3  and found 3 results\n",
            "scraped row  4  and found 3 results\n",
            "# results before dup drop 12\n",
            "# results after dup drop 9\n"
          ]
        },
        {
          "output_type": "stream",
          "name": "stderr",
          "text": [
            "<ipython-input-37-1e30a7e50e2e>:9: FutureWarning: The frame.append method is deprecated and will be removed from pandas in a future version. Use pandas.concat instead.\n",
            "  df = df.append(googleplaces_query_to_dataframe (lng, lat, keyword, radius, *place_type ))\n"
          ]
        }
      ]
    },
    {
      "cell_type": "code",
      "source": [
        "#df_restaurant = poi_scrape(coords, 'restaurant', 'TRT_restaurant.xlsx')"
      ],
      "metadata": {
        "id": "QKQXlw3wQEsV"
      },
      "execution_count": null,
      "outputs": []
    },
    {
      "cell_type": "code",
      "source": [
        "df_grocery = poi_scrape(coords, 'grocery store', 'TRT_grocery.xlsx')"
      ],
      "metadata": {
        "colab": {
          "base_uri": "https://localhost:8080/"
        },
        "id": "YDY5YPwfQLqR",
        "outputId": "6697d3d3-08a2-4a4b-c9bd-7bb097a8c549"
      },
      "execution_count": null,
      "outputs": [
        {
          "output_type": "stream",
          "name": "stderr",
          "text": [
            "<ipython-input-47-1e30a7e50e2e>:9: FutureWarning: The frame.append method is deprecated and will be removed from pandas in a future version. Use pandas.concat instead.\n",
            "  df = df.append(googleplaces_query_to_dataframe (lng, lat, keyword, radius, *place_type ))\n"
          ]
        },
        {
          "output_type": "stream",
          "name": "stdout",
          "text": [
            "scraped row  0  and found 2 results\n"
          ]
        },
        {
          "output_type": "stream",
          "name": "stderr",
          "text": [
            "<ipython-input-47-1e30a7e50e2e>:9: FutureWarning: The frame.append method is deprecated and will be removed from pandas in a future version. Use pandas.concat instead.\n",
            "  df = df.append(googleplaces_query_to_dataframe (lng, lat, keyword, radius, *place_type ))\n"
          ]
        },
        {
          "output_type": "stream",
          "name": "stdout",
          "text": [
            "scraped row  1  and found 3 results\n"
          ]
        },
        {
          "output_type": "stream",
          "name": "stderr",
          "text": [
            "<ipython-input-47-1e30a7e50e2e>:9: FutureWarning: The frame.append method is deprecated and will be removed from pandas in a future version. Use pandas.concat instead.\n",
            "  df = df.append(googleplaces_query_to_dataframe (lng, lat, keyword, radius, *place_type ))\n"
          ]
        },
        {
          "output_type": "stream",
          "name": "stdout",
          "text": [
            "scraped row  2  and found 8 results\n"
          ]
        },
        {
          "output_type": "stream",
          "name": "stderr",
          "text": [
            "<ipython-input-47-1e30a7e50e2e>:9: FutureWarning: The frame.append method is deprecated and will be removed from pandas in a future version. Use pandas.concat instead.\n",
            "  df = df.append(googleplaces_query_to_dataframe (lng, lat, keyword, radius, *place_type ))\n"
          ]
        },
        {
          "output_type": "stream",
          "name": "stdout",
          "text": [
            "scraped row  3  and found 5 results\n",
            "scraped row  4  and found 4 results\n",
            "# results before dup drop 22\n",
            "# results after dup drop 15\n"
          ]
        },
        {
          "output_type": "stream",
          "name": "stderr",
          "text": [
            "<ipython-input-47-1e30a7e50e2e>:9: FutureWarning: The frame.append method is deprecated and will be removed from pandas in a future version. Use pandas.concat instead.\n",
            "  df = df.append(googleplaces_query_to_dataframe (lng, lat, keyword, radius, *place_type ))\n"
          ]
        }
      ]
    },
    {
      "cell_type": "code",
      "source": [
        "df_gas = poi_scrape(coords, 'gas station', 'TRT_gas.xlsx')"
      ],
      "metadata": {
        "colab": {
          "base_uri": "https://localhost:8080/"
        },
        "id": "JSNdiYfYe0jv",
        "outputId": "bb95cb93-ff60-469f-d02c-e055e444b0e8"
      },
      "execution_count": null,
      "outputs": [
        {
          "output_type": "stream",
          "name": "stderr",
          "text": [
            "<ipython-input-47-1e30a7e50e2e>:9: FutureWarning: The frame.append method is deprecated and will be removed from pandas in a future version. Use pandas.concat instead.\n",
            "  df = df.append(googleplaces_query_to_dataframe (lng, lat, keyword, radius, *place_type ))\n"
          ]
        },
        {
          "output_type": "stream",
          "name": "stdout",
          "text": [
            "scraped row  0  and found 2 results\n"
          ]
        },
        {
          "output_type": "stream",
          "name": "stderr",
          "text": [
            "<ipython-input-47-1e30a7e50e2e>:9: FutureWarning: The frame.append method is deprecated and will be removed from pandas in a future version. Use pandas.concat instead.\n",
            "  df = df.append(googleplaces_query_to_dataframe (lng, lat, keyword, radius, *place_type ))\n"
          ]
        },
        {
          "output_type": "stream",
          "name": "stdout",
          "text": [
            "scraped row  1  and found 1 results\n"
          ]
        },
        {
          "output_type": "stream",
          "name": "stderr",
          "text": [
            "<ipython-input-47-1e30a7e50e2e>:9: FutureWarning: The frame.append method is deprecated and will be removed from pandas in a future version. Use pandas.concat instead.\n",
            "  df = df.append(googleplaces_query_to_dataframe (lng, lat, keyword, radius, *place_type ))\n"
          ]
        },
        {
          "output_type": "stream",
          "name": "stdout",
          "text": [
            "scraped row  2  and found 5 results\n"
          ]
        },
        {
          "output_type": "stream",
          "name": "stderr",
          "text": [
            "<ipython-input-47-1e30a7e50e2e>:9: FutureWarning: The frame.append method is deprecated and will be removed from pandas in a future version. Use pandas.concat instead.\n",
            "  df = df.append(googleplaces_query_to_dataframe (lng, lat, keyword, radius, *place_type ))\n"
          ]
        },
        {
          "output_type": "stream",
          "name": "stdout",
          "text": [
            "scraped row  3  and found 9 results\n",
            "scraped row  4  and found 7 results\n",
            "# results before dup drop 24\n",
            "# results after dup drop 15\n"
          ]
        },
        {
          "output_type": "stream",
          "name": "stderr",
          "text": [
            "<ipython-input-47-1e30a7e50e2e>:9: FutureWarning: The frame.append method is deprecated and will be removed from pandas in a future version. Use pandas.concat instead.\n",
            "  df = df.append(googleplaces_query_to_dataframe (lng, lat, keyword, radius, *place_type ))\n"
          ]
        }
      ]
    },
    {
      "cell_type": "code",
      "source": [
        "#df_university = poi_scrape(coords, 'university', 'TRT_university.xlsx')"
      ],
      "metadata": {
        "id": "hwAqjelle75F"
      },
      "execution_count": null,
      "outputs": []
    },
    {
      "cell_type": "code",
      "source": [],
      "metadata": {
        "id": "KC-pR6m2e_jo"
      },
      "execution_count": null,
      "outputs": []
    }
  ]
}